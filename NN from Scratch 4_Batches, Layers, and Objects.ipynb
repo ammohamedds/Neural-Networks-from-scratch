{
 "cells": [
  {
   "cell_type": "markdown",
   "metadata": {},
   "source": [
    "https://github.com/Sentdex/NNfSiX/blob/master/Python/p004-Layers-and-Object.py\n",
    "https://www.youtube.com/watch?v=TEWy9vZcxW4&list=PLQVvvaa0QuDcjD5BAw2DxE6OF2tius3V3&index=4"
   ]
  },
  {
   "cell_type": "code",
   "execution_count": 1,
   "metadata": {},
   "outputs": [],
   "source": [
    "import numpy as np"
   ]
  },
  {
   "cell_type": "code",
   "execution_count": 3,
   "metadata": {},
   "outputs": [],
   "source": [
    "np.random.seed(0)"
   ]
  },
  {
   "cell_type": "code",
   "execution_count": 7,
   "metadata": {},
   "outputs": [],
   "source": [
    "X = [[1,2,3,2.5],[2,5,-1,2],[-1.5,2.7,3.3,-0.8]]  # Input Matrix(3,4)\n",
    "# https://github.com/Sentdex/NNfSiX/blob/master/Python/p004-Layers-and-Object.py"
   ]
  },
  {
   "cell_type": "code",
   "execution_count": 5,
   "metadata": {},
   "outputs": [
    {
     "data": {
      "text/plain": [
       "[[1, 2, 3, 2.5], [2, 5, -1, 2], [-1.5, 2.7, 3.3, -0.8]]"
      ]
     },
     "execution_count": 5,
     "metadata": {},
     "output_type": "execute_result"
    }
   ],
   "source": [
    "X "
   ]
  },
  {
   "cell_type": "markdown",
   "metadata": {},
   "source": [
    "**Simply, matrix (m, n) * matrix (n, z) = matrix (m, z), so\n",
    "Input_matrix(number of samples(batch), number of neurons in the last layer) * weight_matrix (the number of neurons in the last layer, new (desiring) number of neurons in the current layer) =matrix (number of samples, new (desiring) number of neurons in the current layer)**"
   ]
  },
  {
   "cell_type": "code",
   "execution_count": 19,
   "metadata": {},
   "outputs": [],
   "source": [
    "# We will intial weight randomly, so the dimension of Weights should be matrix(4,N) as the input is matrx(3,4)\n",
    "    \n",
    "class Layer_Dense:\n",
    "    # we need to generate Weights and Biases\n",
    "    def __init__(self, n_inputs, n_neurons): \n",
    "        # here as we do transpose for input (X (3,4)) to consider the numer of samples (4 for X) in matrx multiplication and becomes important to determine shape of weight matrix (number of rows (4, desire neuron))\n",
    "        #and size of samples (batch size for X) are used in only calcuation but not impotant in determing shape of weight,\n",
    "        #Where n_inputs is structure of input (4 nurons) or previous layer (last output), n_neurons is samples (we can say batch size) which is desire output nurons\n",
    "        self.weights = 0.1 * np.random.randn(n_inputs, n_neurons)     # 0.1 to ensure that the range of values is low ( less than 1)\n",
    "        self.biases = np.zeros((1,n_neurons))   # biases we will be added to output of sum of weights so should be matrix(1,N )\n",
    "        \n",
    "    def forward(self,inputs):  # inputs is last ouput\n",
    "        self.output = np.dot(inputs,self.weights)+self.biases\n",
    "        "
   ]
  },
  {
   "cell_type": "code",
   "execution_count": 32,
   "metadata": {},
   "outputs": [],
   "source": [
    "# let us to create two layers: input layer and 1st hidden layer\n",
    "\n",
    "layer1= Layer_Dense(4,5)  # takes two paramters (number of features (input neurons) here X (every sampel has 4 neurons or features) and batch size or samples)\n",
    "layer2= Layer_Dense(5,3) # we choose 5 to be like previous output neurons \n",
    "layer3= Layer_Dense(3,3)\n",
    "\n",
    "\n",
    "layer1.forward(X)\n",
    "layer2.forward(layer1.output)\n",
    "layer3.forward(layer2.output)\n"
   ]
  },
  {
   "cell_type": "code",
   "execution_count": 33,
   "metadata": {
    "scrolled": true
   },
   "outputs": [
    {
     "name": "stdout",
     "output_type": "stream",
     "text": [
      "[[-0.42190252  0.27174657  0.12579925 -0.34077368 -0.2611544 ]\n",
      " [ 0.10933446 -0.13012975 -0.56000852 -0.04617295  0.26582531]\n",
      " [-0.88405416  0.09489638  0.61953788 -0.38720628 -0.72421284]]\n",
      "[[-0.01502902  0.04138425  0.00499986]\n",
      " [ 0.06786775  0.00838218  0.00345966]\n",
      " [-0.03926996  0.04820025  0.08041904]]\n",
      "[[ 0.00126151  0.00140894 -0.00557279]\n",
      " [ 0.00320604 -0.01940399  0.01224408]\n",
      " [ 0.00428383  0.00680964 -0.02589584]]\n"
     ]
    }
   ],
   "source": [
    "print(layer1.output)  # as Input_Matrix:X(3,4)* Weights(4,5) = output(3,5)\n",
    "print(layer2.output)  # as Input_Matrix:last layer ouput(3,5)* Weights(5,3) = output(3,3)\n",
    "print(layer3.output) #  (3,3) * (3,3)=(3,3)"
   ]
  },
  {
   "cell_type": "code",
   "execution_count": 30,
   "metadata": {
    "scrolled": false
   },
   "outputs": [],
   "source": [
    "# 0.1*np.random.randn(4,5)"
   ]
  }
 ],
 "metadata": {
  "kernelspec": {
   "display_name": "Python 3",
   "language": "python",
   "name": "python3"
  },
  "language_info": {
   "codemirror_mode": {
    "name": "ipython",
    "version": 3
   },
   "file_extension": ".py",
   "mimetype": "text/x-python",
   "name": "python",
   "nbconvert_exporter": "python",
   "pygments_lexer": "ipython3",
   "version": "3.7.6"
  }
 },
 "nbformat": 4,
 "nbformat_minor": 4
}
