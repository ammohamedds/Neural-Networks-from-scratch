{
 "cells": [
  {
   "cell_type": "code",
   "execution_count": 54,
   "metadata": {},
   "outputs": [],
   "source": [
    "softmax_output = [0.7, 0.1, 0.2]\n",
    "target_output = [1, 0, 0] # this is not in One hot encoding"
   ]
  },
  {
   "cell_type": "code",
   "execution_count": 55,
   "metadata": {},
   "outputs": [
    {
     "data": {
      "text/plain": [
       "[(0.7, 1), (0.1, 0), (0.2, 0)]"
      ]
     },
     "execution_count": 55,
     "metadata": {},
     "output_type": "execute_result"
    }
   ],
   "source": [
    "new= zip(softmax_output,target_output)\n",
    "list(new)"
   ]
  },
  {
   "cell_type": "code",
   "execution_count": 58,
   "metadata": {},
   "outputs": [
    {
     "data": {
      "text/plain": [
       "[([0.7, 0.1, 0.2], 0), ([0.05, 0.9, 0.05], 1), ([0.2, 0.78, 0.2], 1)]"
      ]
     },
     "execution_count": 58,
     "metadata": {},
     "output_type": "execute_result"
    }
   ],
   "source": [
    "softmax_output2 = [[0.7, 0.1, 0.2],[0.05,0.9,0.05],[0.2,0.78,0.2]]\n",
    "target_output2 = [0, 1, 1]  # # this is not in One hot encoding, but it is in form of scalar values\n",
    "new2= zip(softmax_output2,target_output2)\n",
    "list(new2)"
   ]
  },
  {
   "cell_type": "code",
   "execution_count": 59,
   "metadata": {},
   "outputs": [
    {
     "name": "stdout",
     "output_type": "stream",
     "text": [
      "0.7\n",
      "0.9\n",
      "0.78\n"
     ]
    }
   ],
   "source": [
    "#To bring coresponsding value \n",
    "\n",
    "softmax_output2 = [[0.7, 0.1, 0.2],[0.05,0.9,0.05],[0.2,0.78,0.2]]\n",
    "target_output2 = [0, 1, 1]  # # this is not in One hot encoding\n",
    "\n",
    "for sindex,tindex in zip(softmax_output2,target_output2):\n",
    "    print(sindex[tindex])"
   ]
  },
  {
   "cell_type": "code",
   "execution_count": 60,
   "metadata": {},
   "outputs": [
    {
     "data": {
      "text/plain": [
       "array([[0.7 , 0.1 , 0.2 ],\n",
       "       [0.05, 0.9 , 0.05],\n",
       "       [0.2 , 0.78, 0.2 ]])"
      ]
     },
     "execution_count": 60,
     "metadata": {},
     "output_type": "execute_result"
    }
   ],
   "source": [
    "# Without zip(), we can do it by numpy\n",
    "import numpy as np\n",
    "softmax_output2 =np.asarray(softmax_output2) # change to array\n",
    "softmax_output2"
   ]
  },
  {
   "cell_type": "code",
   "execution_count": 61,
   "metadata": {},
   "outputs": [
    {
     "data": {
      "text/plain": [
       "array([0.7 , 0.9 , 0.78])"
      ]
     },
     "execution_count": 61,
     "metadata": {},
     "output_type": "execute_result"
    }
   ],
   "source": [
    "softmax_output2[[0,1,2],target_output2]"
   ]
  },
  {
   "cell_type": "code",
   "execution_count": 63,
   "metadata": {},
   "outputs": [
    {
     "name": "stdout",
     "output_type": "stream",
     "text": [
      "range(0, 4)\n",
      "range(0, 3)\n",
      "range(0, 3)\n"
     ]
    }
   ],
   "source": [
    "len(softmax_output2)\n",
    "range(len(softmax_output2))\n",
    "print(range(4)) #Number of integers (whole numbers) to generate, starting from zero\n",
    "d=range(len(softmax_output2))\n",
    "print(range(len(softmax_output2)))\n",
    "print(d)"
   ]
  },
  {
   "cell_type": "code",
   "execution_count": 65,
   "metadata": {},
   "outputs": [
    {
     "data": {
      "text/plain": [
       "array([0.7 , 0.9 , 0.78])"
      ]
     },
     "execution_count": 65,
     "metadata": {},
     "output_type": "execute_result"
    }
   ],
   "source": [
    "# Without zip(), we can do it by numpy and programmatically \n",
    "softmax_output2[range(len(softmax_output2)),target_output2]"
   ]
  },
  {
   "cell_type": "code",
   "execution_count": 66,
   "metadata": {},
   "outputs": [
    {
     "data": {
      "text/plain": [
       "array([0.35667494, 0.10536052, 0.24846136])"
      ]
     },
     "execution_count": 66,
     "metadata": {},
     "output_type": "execute_result"
    }
   ],
   "source": [
    "-np.log(softmax_output2[range(len(softmax_output2)),target_output2])  #  loss function value for every element in batch\n",
    "# We can see 0.1 value has low loss value because the propability value (softmax_output2) was high (0.9)"
   ]
  },
  {
   "cell_type": "code",
   "execution_count": 53,
   "metadata": {},
   "outputs": [
    {
     "name": "stderr",
     "output_type": "stream",
     "text": [
      "C:\\Users\\Ahmed\\ana\\lib\\site-packages\\ipykernel_launcher.py:2: RuntimeWarning: divide by zero encountered in log\n",
      "  \n"
     ]
    },
    {
     "data": {
      "text/plain": [
       "-inf"
      ]
     },
     "execution_count": 53,
     "metadata": {},
     "output_type": "execute_result"
    }
   ],
   "source": [
    "# but in case of any input value is zero , will retun infinity, it is Game Over, just because of one value is zero :) \n",
    "np.log(0)"
   ]
  }
 ],
 "metadata": {
  "kernelspec": {
   "display_name": "Python 3",
   "language": "python",
   "name": "python3"
  },
  "language_info": {
   "codemirror_mode": {
    "name": "ipython",
    "version": 3
   },
   "file_extension": ".py",
   "mimetype": "text/x-python",
   "name": "python",
   "nbconvert_exporter": "python",
   "pygments_lexer": "ipython3",
   "version": "3.7.6"
  }
 },
 "nbformat": 4,
 "nbformat_minor": 4
}
