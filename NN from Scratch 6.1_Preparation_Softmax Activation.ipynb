{
 "cells": [
  {
   "cell_type": "code",
   "execution_count": 2,
   "metadata": {},
   "outputs": [],
   "source": [
    "import numpy as np"
   ]
  },
  {
   "cell_type": "code",
   "execution_count": 23,
   "metadata": {},
   "outputs": [],
   "source": [
    "x = [[1,-3.1,2.2],[1.9,1.8,2.17],[3.3,-0.4,0.9]]"
   ]
  },
  {
   "cell_type": "code",
   "execution_count": 24,
   "metadata": {
    "scrolled": true
   },
   "outputs": [
    {
     "name": "stdout",
     "output_type": "stream",
     "text": [
      "[[ 2.71828183  0.0450492   9.0250135 ]\n",
      " [ 6.68589444  6.04964746  8.75828404]\n",
      " [27.11263892  0.67032005  2.45960311]]\n",
      "\n",
      "63.524732555570246\n",
      "\n",
      "[11.78834453 21.49382595 30.24256208]\n",
      "\n",
      "[[2.30590633e-01 2.09591361e-03 2.98420930e-01]\n",
      " [5.67161439e-01 2.81459777e-01 2.89601259e-01]\n",
      " [2.29995305e+00 3.11866323e-02 8.13291911e-02]]\n",
      "\n",
      "[[11.78834453]\n",
      " [21.49382595]\n",
      " [30.24256208]]\n",
      "\n",
      "[[0.23059063 0.0038215  0.76558786]\n",
      " [0.31106116 0.28145978 0.40747906]\n",
      " [0.89650602 0.02216479 0.08132919]]\n"
     ]
    }
   ],
   "source": [
    "print(np.exp(x)) # this is not what we need, we need to make sum for every row(set of element(a batch)) \n",
    "print()\n",
    "print(np.sum(np.exp(x))) # this is not what we need, we need to make sum for every row(set of element(a batch)), not all\n",
    "print()\n",
    "print(np.sum(np.exp(x), axis=1))\n",
    "print()\n",
    "print(np.exp(x)/np.sum(np.exp(x), axis=1))  # but this is wrong answer, because i need each element in sum_matrix used with the first row with another matrix, not column like this reulst\n",
    "print()\n",
    "print(np.sum(np.exp(x), axis=1, keepdims=True)) # make sum with keeping the same shape and dimension\n",
    "print()\n",
    "print(np.exp(x)/np.sum(np.exp(x), axis=1, keepdims=True)) # This what i need: every row is divided by every element in sum_matric"
   ]
  },
  {
   "cell_type": "code",
   "execution_count": 32,
   "metadata": {},
   "outputs": [
    {
     "name": "stdout",
     "output_type": "stream",
     "text": [
      "[[0.23059063 0.0038215  0.76558786]\n",
      " [0.31106116 0.28145978 0.40747906]\n",
      " [0.89650602 0.02216479 0.08132919]]\n",
      "[[0.23059063 0.0038215  0.76558786]\n",
      " [0.31106116 0.28145978 0.40747906]\n",
      " [0.89650602 0.02216479 0.08132919]]\n"
     ]
    }
   ],
   "source": [
    "# Exponential function has overflow problem with largest values, so we will subtract input values from max_value before applying exponential function\n",
    "# This will not impact the results, since we will deal with probability at the end(value/sum)\n",
    "# For example:\n",
    "T = [[1,-3.1,2.2],[1.9,1.8,2.17],[3.3,-0.4,0.9]]\n",
    "exp1= np.exp(T)\n",
    "exp2= np.exp(T-np.max(T))\n",
    "print(exp1/np.sum(exp1, axis=1, keepdims=True))\n",
    "print(exp2/np.sum(exp2, axis=1, keepdims=True))\n",
    "# Two Results are similar but the second way will be used to avoid overflow problem for exponential function"
   ]
  }
 ],
 "metadata": {
  "kernelspec": {
   "display_name": "Python 3",
   "language": "python",
   "name": "python3"
  },
  "language_info": {
   "codemirror_mode": {
    "name": "ipython",
    "version": 3
   },
   "file_extension": ".py",
   "mimetype": "text/x-python",
   "name": "python",
   "nbconvert_exporter": "python",
   "pygments_lexer": "ipython3",
   "version": "3.7.6"
  }
 },
 "nbformat": 4,
 "nbformat_minor": 4
}
