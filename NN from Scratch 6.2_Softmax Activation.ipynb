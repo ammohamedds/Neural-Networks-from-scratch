{
 "cells": [
  {
   "cell_type": "code",
   "execution_count": 1,
   "metadata": {},
   "outputs": [],
   "source": [
    "import numpy as np\n",
    "\n",
    "# Create Data\n",
    "#https://cs231n.github.io/neural-networks-case-study/\n",
    "# https://gist.github.com/Sentdex/454cb20ec5acf0e76ee8ab8448e6266c\n",
    "# points = 100 # number of points per class\n",
    "# D = 2 # dimensionality\n",
    "# classes = 3 # number of classes\n",
    "def spiral_data(points, classes):\n",
    "    X = np.zeros((points*classes, 2))  # data matrix  # D = 2 # dimensionality\n",
    "    y = np.zeros(points*classes, dtype='uint8')   #class labels\n",
    "    for class_number in range(classes):\n",
    "        ix = range(points*class_number, points*(class_number+1))\n",
    "        r = np.linspace(0.0, 1, points)  # radius\n",
    "        t = np.linspace(class_number*4, (class_number+1)*4, points) + np.random.randn(points)*0.2\n",
    "        X[ix] = np.c_[r*np.sin(t*2.5), r*np.cos(t*2.5)]\n",
    "        y[ix] = class_number\n",
    "    return X, y\n"
   ]
  },
  {
   "cell_type": "code",
   "execution_count": 5,
   "metadata": {},
   "outputs": [],
   "source": [
    "# We will intial weight randomly, so the dimension of Weights should be matrix(4,N) as the input is matrx(3,4)\n",
    "    \n",
    "class Layer_Dense:\n",
    "    # we need to generate Weights and Biases\n",
    "    def __init__(self, n_inputs, n_neurons): \n",
    "        self.weights = 0.1 * np.random.randn(n_inputs, n_neurons)     # 0.1 to ensure that the range of values is low ( less than 1)\n",
    "        self.biases = np.zeros((1,n_neurons))   # biases we will be added to output of sum of weights so should be matrix(1,N )\n",
    "        \n",
    "    def forward(self,inputs):  # inputs is last ouput\n",
    "        self.output = np.dot(inputs,self.weights)+self.biases\n",
    "\n",
    "        \n",
    "class Activation_Rellu:\n",
    "    def forward(self, inputs): # inputs here is output of summation of wieghts and neurons\n",
    "        self.output = np.maximum(0,inputs)\n",
    "        \n",
    "        \n",
    "class Activation_Softmax:\n",
    "    def forward(self, inputs):\n",
    "        exp_values = np.exp(inputs - np.max(inputs, axis=1, keepdims=True))\n",
    "        probabilities = exp_values / np.sum(exp_values, axis=1, keepdims=True)\n",
    "        self.output = probabilities\n",
    "        "
   ]
  },
  {
   "cell_type": "code",
   "execution_count": 18,
   "metadata": {},
   "outputs": [
    {
     "name": "stdout",
     "output_type": "stream",
     "text": [
      "(300, 3)\n",
      "[[0.33333333 0.33333333 0.33333333]\n",
      " [0.33333331 0.33333343 0.33333325]\n",
      " [0.33333333 0.33333333 0.33333333]\n",
      " [0.33333328 0.33333361 0.33333311]\n",
      " [0.33334598 0.33334946 0.33330456]]\n"
     ]
    }
   ],
   "source": [
    "# X, y = spiral_data(samples_batch=100, classes_indata=3)\n",
    "X, y = spiral_data(points=100, classes=3)\n",
    "\n",
    "layer1= Layer_Dense(2,5)  # X has two features(neurons) as input, 5 is my desire neurons\n",
    "Activation1 = Activation_Rellu()\n",
    "\n",
    "layer2= Layer_Dense(5,4) # we choose 5 to be like previous output neurons and 4 is my desire neurons\n",
    "Activation2 = Activation_Rellu()\n",
    "\n",
    "layer3= Layer_Dense(4,3)\n",
    "Activation3 = Activation_Softmax()\n",
    "\n",
    "\n",
    "layer1.forward(X)\n",
    "Activation1.forward(layer1.output)\n",
    "\n",
    "layer2.forward(Activation1.output)\n",
    "Activation2.forward(layer2.output)\n",
    "Activation2.output.shape\n",
    "\n",
    "layer3.forward(Activation2.output)\n",
    "Activation3.forward(layer3.output)\n",
    "\n",
    "print(Activation3.output.shape)\n",
    "print(Activation3.output[:5])\n",
    "# print(Activation3.output)"
   ]
  }
 ],
 "metadata": {
  "kernelspec": {
   "display_name": "Python 3",
   "language": "python",
   "name": "python3"
  },
  "language_info": {
   "codemirror_mode": {
    "name": "ipython",
    "version": 3
   },
   "file_extension": ".py",
   "mimetype": "text/x-python",
   "name": "python",
   "nbconvert_exporter": "python",
   "pygments_lexer": "ipython3",
   "version": "3.7.6"
  }
 },
 "nbformat": 4,
 "nbformat_minor": 4
}
